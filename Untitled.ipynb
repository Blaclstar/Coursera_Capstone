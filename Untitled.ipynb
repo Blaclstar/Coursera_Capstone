{
  "nbformat": 4,
  "nbformat_minor": 0,
  "metadata": {
    "colab": {
      "name": "Untitled",
      "provenance": [],
      "collapsed_sections": [],
      "authorship_tag": "ABX9TyPH9RjQy+Ckae5nYAbS14q+",
      "include_colab_link": true
    },
    "kernelspec": {
      "name": "python3",
      "display_name": "Python 3"
    },
    "language_info": {
      "name": "python"
    }
  },
  "cells": [
    {
      "cell_type": "markdown",
      "metadata": {
        "id": "view-in-github",
        "colab_type": "text"
      },
      "source": [
        "<a href=\"https://colab.research.google.com/github/Blaclstar/Coursera_Capstone/blob/main/Untitled.ipynb\" target=\"_parent\"><img src=\"https://colab.research.google.com/assets/colab-badge.svg\" alt=\"Open In Colab\"/></a>"
      ]
    },
    {
      "cell_type": "code",
      "metadata": {
        "id": "yhc9P6Y0G7s0"
      },
      "source": [
        "import numpy as np\n",
        "import pandas as pd\n",
        "import matplotlib.pyplot as plt\n",
        "from google.colab import files \n",
        "import io"
      ],
      "execution_count": 3,
      "outputs": []
    },
    {
      "cell_type": "code",
      "metadata": {
        "id": "208koutF2i3k",
        "colab": {
          "base_uri": "https://localhost:8080/"
        },
        "outputId": "fe3d1c0c-1db3-4d9a-d818-dd91f4f2adb0"
      },
      "source": [
        "from google.colab import drive\n",
        "drive.mount('/content/drive')"
      ],
      "execution_count": 4,
      "outputs": [
        {
          "output_type": "stream",
          "text": [
            "Drive already mounted at /content/drive; to attempt to forcibly remount, call drive.mount(\"/content/drive\", force_remount=True).\n"
          ],
          "name": "stdout"
        }
      ]
    },
    {
      "cell_type": "code",
      "metadata": {
        "id": "WUhkOOqGocla"
      },
      "source": [
        "df=pd.read_excel('0_Device_869170033629073.xlsx')\n"
      ],
      "execution_count": 11,
      "outputs": []
    },
    {
      "cell_type": "code",
      "metadata": {
        "id": "-7vekgatQkgC"
      },
      "source": [
        "for i in range(3,6):\n",
        "  liste=df.index[df['ref'] == i].tolist()\n",
        "df.drop(liste,axis=0, inplace=True)"
      ],
      "execution_count": 12,
      "outputs": []
    },
    {
      "cell_type": "code",
      "metadata": {
        "id": "V8b7csVQQkeA"
      },
      "source": [
        "df.created=pd.to_datetime(df.created,unit='s')"
      ],
      "execution_count": 29,
      "outputs": []
    },
    {
      "cell_type": "code",
      "metadata": {
        "id": "X10PcClBQkbm"
      },
      "source": [
        "date=df.created.values"
      ],
      "execution_count": 30,
      "outputs": []
    },
    {
      "cell_type": "code",
      "metadata": {
        "colab": {
          "base_uri": "https://localhost:8080/"
        },
        "id": "9psFjs9xRujI",
        "outputId": "74efa092-4075-4e81-e963-e13d9e4aab88"
      },
      "source": [
        "date"
      ],
      "execution_count": 31,
      "outputs": [
        {
          "output_type": "execute_result",
          "data": {
            "text/plain": [
              "array(['2021-01-07T15:22:44.699000000', '2021-01-28T19:51:11.712000000',\n",
              "       '2021-01-28T19:56:11.994000000'], dtype='datetime64[ns]')"
            ]
          },
          "metadata": {
            "tags": []
          },
          "execution_count": 31
        }
      ]
    },
    {
      "cell_type": "code",
      "metadata": {
        "id": "NXYYFhmcQkZD"
      },
      "source": [
        "diff_between_two_alerts=[]\n",
        "for i in range(1,len(date)):\n",
        "  diff_between_two_alerts.append(date[i]-date[i-1])\n",
        "\n",
        "      "
      ],
      "execution_count": 34,
      "outputs": []
    },
    {
      "cell_type": "code",
      "metadata": {
        "colab": {
          "base_uri": "https://localhost:8080/"
        },
        "id": "CoUv2MtzR2hS",
        "outputId": "5dc6c3db-9cd4-441b-9735-73731a5c291f"
      },
      "source": [
        "diff_between_two_alerts"
      ],
      "execution_count": 35,
      "outputs": [
        {
          "output_type": "execute_result",
          "data": {
            "text/plain": [
              "[numpy.timedelta64(1830507013000000,'ns'),\n",
              " numpy.timedelta64(300282000000,'ns')]"
            ]
          },
          "metadata": {
            "tags": []
          },
          "execution_count": 35
        }
      ]
    },
    {
      "cell_type": "code",
      "metadata": {
        "id": "ea80-NMYRNO6"
      },
      "source": [
        "mean=0"
      ],
      "execution_count": 36,
      "outputs": []
    },
    {
      "cell_type": "code",
      "metadata": {
        "id": "wk7K6-lnQkWo"
      },
      "source": [
        "for i in range(len(diff_between_two_alerts)):\n",
        "  mean+=diff_between_two_alerts[i]\n",
        "mean=mean/len(diff_between_two_alerts)"
      ],
      "execution_count": 37,
      "outputs": []
    },
    {
      "cell_type": "code",
      "metadata": {
        "colab": {
          "base_uri": "https://localhost:8080/"
        },
        "id": "8Nbg_L2IRZ6e",
        "outputId": "0d24ad0e-9d63-4b5c-84d6-dd01a4c883da"
      },
      "source": [
        "diff_between_two_alerts"
      ],
      "execution_count": 38,
      "outputs": [
        {
          "output_type": "execute_result",
          "data": {
            "text/plain": [
              "[numpy.timedelta64(1830507013000000,'ns'),\n",
              " numpy.timedelta64(300282000000,'ns')]"
            ]
          },
          "metadata": {
            "tags": []
          },
          "execution_count": 38
        }
      ]
    },
    {
      "cell_type": "code",
      "metadata": {
        "id": "dS5jY7tEQkQW"
      },
      "source": [
        "mean=np.timedelta64(mean,'s')"
      ],
      "execution_count": 39,
      "outputs": []
    },
    {
      "cell_type": "code",
      "metadata": {
        "colab": {
          "base_uri": "https://localhost:8080/"
        },
        "id": "mhPtO0TySBwV",
        "outputId": "4f5a762d-9205-40ac-fa34-6433f2f2de95"
      },
      "source": [
        "mean"
      ],
      "execution_count": 40,
      "outputs": [
        {
          "output_type": "execute_result",
          "data": {
            "text/plain": [
              "numpy.timedelta64(915403,'s')"
            ]
          },
          "metadata": {
            "tags": []
          },
          "execution_count": 40
        }
      ]
    },
    {
      "cell_type": "code",
      "metadata": {
        "colab": {
          "base_uri": "https://localhost:8080/"
        },
        "id": "GZk6lKOEQkIG",
        "outputId": "d20997d4-c1c5-4e25-dc8c-baf20cdfd35a"
      },
      "source": [
        "mean"
      ],
      "execution_count": 23,
      "outputs": [
        {
          "output_type": "execute_result",
          "data": {
            "text/plain": [
              "numpy.timedelta64(1830507,'s')"
            ]
          },
          "metadata": {
            "tags": []
          },
          "execution_count": 23
        }
      ]
    },
    {
      "cell_type": "code",
      "metadata": {
        "id": "m5ot3rE95eve",
        "colab": {
          "base_uri": "https://localhost:8080/",
          "height": 129
        },
        "outputId": "2cde53e9-7e3f-4492-dedc-2dd1819ada8e"
      },
      "source": [
        "mydata=pd.DataFrame([], columns=['serial', 'moyenne', 'count'])\n",
        "vide_devices=[]\n",
        "  for data_set in uploaded.keys():\n",
        "    df=pd.read_excel('{name}'.format(name=data_set))\n",
        "    if df.empty==True:\n",
        "      vide_devices.append(data_set)\n",
        "      continue\n",
        "    if df.shape[0]==1:\n",
        "      listee=[data_set,df.created,df.shape[0]]\n",
        "    else:\n",
        "      for i in range(3,6):\n",
        "        liste=df.index[df['ref'] == i].tolist()\n",
        "      df.drop(liste,axis=0, inplace=True)\n",
        "      df.created=pd.to_datetime(df.created,unit='s')\n",
        "      date=df.created.values\n",
        "      diff_between_two_alerts=[]\n",
        "      for i in range(1,len(date)):\n",
        "        diff_between_two_alerts.append(date[i]-date[i-1])\n",
        "      mean=0\n",
        "      for i in range(len(diff_between_two_alerts)):\n",
        "        mean+=diff_between_two_alerts[i]\n",
        "      mean=mean/len(diff_between_two_alerts)\n",
        "      mean=np.timedelta64(mean,'h')\n",
        "      listee=[data_set,mean,df.shape[0]]\n",
        "      mydata.loc[len(mydata)] =listee\n",
        "      \n"
      ],
      "execution_count": null,
      "outputs": [
        {
          "output_type": "error",
          "ename": "IndentationError",
          "evalue": "ignored",
          "traceback": [
            "\u001b[0;36m  File \u001b[0;32m\"<ipython-input-5-fb2445f5e847>\"\u001b[0;36m, line \u001b[0;32m3\u001b[0m\n\u001b[0;31m    for data_set in uploaded.keys():\u001b[0m\n\u001b[0m    ^\u001b[0m\n\u001b[0;31mIndentationError\u001b[0m\u001b[0;31m:\u001b[0m unexpected indent\n"
          ]
        }
      ]
    },
    {
      "cell_type": "code",
      "metadata": {
        "id": "zLOZx_jOPueV"
      },
      "source": [
        "df.created=pd.to_datetime(df.created,unit='s')"
      ],
      "execution_count": null,
      "outputs": []
    },
    {
      "cell_type": "code",
      "metadata": {
        "id": "A509v6fGp3BR"
      },
      "source": [
        "date=df.created.values"
      ],
      "execution_count": null,
      "outputs": []
    },
    {
      "cell_type": "code",
      "metadata": {
        "colab": {
          "base_uri": "https://localhost:8080/"
        },
        "id": "LGhuPdSNNMII",
        "outputId": "7e98f755-4f6c-4a0d-b200-4c52b12f8879"
      },
      "source": [
        "date"
      ],
      "execution_count": null,
      "outputs": [
        {
          "output_type": "execute_result",
          "data": {
            "text/plain": [
              "array(['2021-01-07T15:22:44.699000000', '2021-01-07T15:27:43.741000000',\n",
              "       '2021-01-16T13:03:33.831000000', '2021-01-28T19:51:11.712000000',\n",
              "       '2021-01-28T19:56:11.994000000'], dtype='datetime64[ns]')"
            ]
          },
          "metadata": {
            "tags": []
          },
          "execution_count": 93
        }
      ]
    },
    {
      "cell_type": "code",
      "metadata": {
        "id": "-qMD164yMs3j"
      },
      "source": [
        "\n",
        "\n"
      ],
      "execution_count": null,
      "outputs": []
    },
    {
      "cell_type": "code",
      "metadata": {
        "id": "wJQhwat4rTcS",
        "colab": {
          "base_uri": "https://localhost:8080/"
        },
        "outputId": "5e2352c7-db88-45eb-9522-1116e75df0e9"
      },
      "source": [
        ""
      ],
      "execution_count": null,
      "outputs": [
        {
          "output_type": "execute_result",
          "data": {
            "text/plain": [
              "[numpy.timedelta64(299042000000,'ns'),\n",
              " numpy.timedelta64(768950090000000,'ns'),\n",
              " numpy.timedelta64(1061257881000000,'ns'),\n",
              " numpy.timedelta64(300282000000,'ns')]"
            ]
          },
          "metadata": {
            "tags": []
          },
          "execution_count": 95
        }
      ]
    },
    {
      "cell_type": "code",
      "metadata": {
        "id": "bRJ6qCsDrn43"
      },
      "source": [
        "mean=0\n",
        "for i in range(len(diff_between_two_alerts)):\n",
        "  mean+=diff_between_two_alerts[i]\n",
        "mean=mean/len(diff_between_two_alerts)  \n",
        "\n"
      ],
      "execution_count": null,
      "outputs": []
    },
    {
      "cell_type": "code",
      "metadata": {
        "id": "tBc7vjqArpJ2"
      },
      "source": [
        "meann=np.timedelta64(mean,'m')"
      ],
      "execution_count": null,
      "outputs": []
    },
    {
      "cell_type": "code",
      "metadata": {
        "colab": {
          "base_uri": "https://localhost:8080/"
        },
        "id": "h-ubNm8JEisJ",
        "outputId": "d6b29210-f6f0-4a4f-c798-361f844551ae"
      },
      "source": [
        "meann"
      ],
      "execution_count": null,
      "outputs": [
        {
          "output_type": "execute_result",
          "data": {
            "text/plain": [
              "numpy.timedelta64(7628,'m')"
            ]
          },
          "metadata": {
            "tags": []
          },
          "execution_count": 106
        }
      ]
    },
    {
      "cell_type": "code",
      "metadata": {
        "id": "qd4Eg6IBsH2H"
      },
      "source": [
        ""
      ],
      "execution_count": null,
      "outputs": []
    },
    {
      "cell_type": "code",
      "metadata": {
        "id": "CqlpnstSF0WH"
      },
      "source": [
        ""
      ],
      "execution_count": null,
      "outputs": []
    }
  ]
}